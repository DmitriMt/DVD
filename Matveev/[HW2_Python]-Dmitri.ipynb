{
 "cells": [
  {
   "cell_type": "markdown",
   "id": "8f868eb6",
   "metadata": {},
   "source": [
    "# Homework 2 - Python\n",
    "\n",
    "First Name: Dmitri\n",
    "\n",
    "Last Name: Matveev\n",
    "\n",
    "Group: PD231"
   ]
  },
  {
   "cell_type": "markdown",
   "id": "f47683d8",
   "metadata": {},
   "source": [
    "## Task 1  (1.5 point)\n",
    "\n",
    "Let's develop the idea from the task in homework 1, now consider a 2D array, and you want to implement a program that not only shift to right or left, but also, it can shift up or down.\n",
    "\n",
    "In this scenario, the user need to insert four different arguments:\n",
    "\n",
    "1. Row shift or column shift? ('row' or 'column')\n",
    "\n",
    "2. Which direction? ('left', 'right' or 'top', 'down') \n",
    "\n",
    "3. Index of the column or row? (an integer index)\n",
    "\n",
    "4. How many elements need to be shifted? (integer number)"
   ]
  },
  {
   "cell_type": "code",
   "execution_count": 33,
   "id": "2d62ba3d",
   "metadata": {
    "ExecuteTime": {
     "end_time": "2024-04-14T21:10:29.377761Z",
     "start_time": "2024-04-14T21:10:21.824929600Z"
    }
   },
   "outputs": [
    {
     "name": "stdout",
     "output_type": "stream",
     "text": [
      "Original matrix:\n",
      "[1, 2, 3]\n",
      "[4, 5, 6]\n",
      "[7, 8, 9]\n",
      "Modified matrix after shift:\n",
      "[1, 2, 3]\n",
      "[4, 5, 6]\n",
      "[7, 8, 9]\n"
     ]
    }
   ],
   "source": [
    "#<YOUR CODE>\n",
    "def shift(array, shifting, direction, index, elements):\n",
    "    if shifting == 'row':\n",
    "        if direction == 'left':\n",
    "            array[index] = array[index][elements:] + array[index][:elements]\n",
    "        elif direction == 'right':\n",
    "            array[index] = array[index][-elements:] + array[index][:-elements]\n",
    "        else:\n",
    "            raise KeyError\n",
    "    elif shifting == 'column':\n",
    "        if direction == 'top':\n",
    "            array_transposed = list(map(list, zip(*array)))\n",
    "            array_transposed[index] = array_transposed[index][elements:] + array_transposed[index][:elements]\n",
    "            array[:] = list(map(list, zip(*array_transposed)))\n",
    "        elif direction == 'down':\n",
    "            array_transposed = list(map(list, zip(*array)))\n",
    "            array_transposed[index] = array_transposed[index][-elements:] + array_transposed[index][:-elements]\n",
    "            array[:] = list(map(list, zip(*array_transposed)))\n",
    "        else:\n",
    "            raise KeyError\n",
    "    else:\n",
    "        raise KeyError\n",
    "\n",
    "def print_array(array):\n",
    "    for row in array:\n",
    "        print(row)\n",
    "\n",
    "\n",
    "matrix = [\n",
    "    [1, 2, 3],\n",
    "    [4, 5, 6],\n",
    "    [7, 8, 9]\n",
    "]\n",
    "\n",
    "print(\"Original matrix:\")\n",
    "print_array(matrix)\n",
    "\n",
    "# Prompt user for shift parameters\n",
    "shifting = input(\"Row shift or column shift? (‘row’ or ‘column’): \")\n",
    "direction = input(\"Which direction? ('left', 'right' or 'top', 'down'): \")\n",
    "index = int(input(\"Index of the column or row? (an integer index): \"))\n",
    "elements = int(input(\"How many elements need to be shifted? (integer number): \"))\n",
    "\n",
    "# Perform the specified shift\n",
    "shift(matrix, shifting, direction, index, elements)\n",
    "\n",
    "# Print the modified matrix after shifting\n",
    "print(\"Modified matrix after shift:\")\n",
    "print_array(matrix)\n"
   ]
  },
  {
   "cell_type": "markdown",
   "id": "d03af2f7",
   "metadata": {},
   "source": [
    "## Task 2 (1.5 point)\n",
    "\n",
    "Let's practice (if, elif, else). In this task you need to write a program that determins the result of the rock, paper, scissors game which is given by two players (Player 1 and Player 2). The program should print out the result.\n",
    "\n",
    "Rules of the game:\n",
    "- **Paper** beats **rock**\n",
    "- **Scissors** beats **paper**\n",
    "- **Rock** beats **scissors**\n",
    "\n",
    "To understand the logic, write all the combination of the choices for player 1 and player 2 to check the outsomes. It helps you to understand how to write the code.\n",
    "\n",
    "Example of the outcome:\n",
    "```\n",
    "Player 1? scissors\n",
    "Player 2? paper\n",
    "\n",
    "Player 1 wins.\n",
    "```\n",
    "\n",
    "The only valid inputs are `rock`, `paper`, `scissors`. In case the user imported something else, the program prints `\"This input is not valid for our game!\"`"
   ]
  },
  {
   "cell_type": "code",
   "execution_count": 18,
   "id": "53894434",
   "metadata": {
    "ExecuteTime": {
     "end_time": "2024-04-14T20:43:13.958897Z",
     "start_time": "2024-04-14T20:43:09.485389500Z"
    }
   },
   "outputs": [
    {
     "name": "stdout",
     "output_type": "stream",
     "text": [
      "Player 1: rock\n",
      "Player 2: paper\n",
      "Player 2 wins\n"
     ]
    }
   ],
   "source": [
    "#<YOUR CODE>\n",
    "def input_():\n",
    "    choice = str(input(\"Enter your choice: `rock`, `paper`, or `scissors`\"))\n",
    "    if any(choice == opt for opt in ['rock', 'paper', 'scissors']):\n",
    "        return choice\n",
    "    else:\n",
    "        print('\"This input is not valid for our game!\"')\n",
    "\n",
    "def game(player1_choice, player2_choice):\n",
    "    if player1_choice == player2_choice:\n",
    "        return \"It's a tie\"\n",
    "    elif (player1_choice == 'rock' and player2_choice == 'scissors') or \\\n",
    "            (player1_choice == 'paper' and player2_choice == 'rock') or \\\n",
    "            (player1_choice == 'scissors' and player2_choice == 'paper'):\n",
    "        return \"Player 1 wins\"\n",
    "    else:\n",
    "        return \"Player 2 wins\"\n",
    "\n",
    "# inputs\n",
    "player1_choice = input_()\n",
    "player2_choice = input_()\n",
    "\n",
    "result = game(player1_choice, player2_choice)\n",
    "print(\"Player 1:\", player1_choice)\n",
    "print(\"Player 2:\", player2_choice)\n",
    "print(result)\n"
   ]
  },
  {
   "cell_type": "markdown",
   "id": "89040ea7",
   "metadata": {},
   "source": [
    "## Task 3  (0.5 points)\n",
    "\n",
    "Write a program to generate the following output by a for loop:\n",
    "\n",
    "Output:\n",
    "\n",
    "```\n",
    "*\n",
    "**\n",
    "***\n",
    "****\n",
    "*****\n",
    "******\n",
    "*******\n",
    "******\n",
    "*****\n",
    "****\n",
    "***\n",
    "**\n",
    "*\n",
    "```"
   ]
  },
  {
   "cell_type": "code",
   "execution_count": 23,
   "id": "782170f2",
   "metadata": {
    "ExecuteTime": {
     "end_time": "2024-04-14T20:49:28.522639200Z",
     "start_time": "2024-04-14T20:49:28.514285400Z"
    }
   },
   "outputs": [
    {
     "name": "stdout",
     "output_type": "stream",
     "text": [
      "7\n",
      "*\n",
      "**\n",
      "***\n",
      "****\n",
      "*****\n",
      "******\n",
      "*******\n",
      "******\n",
      "*****\n",
      "****\n",
      "***\n",
      "**\n",
      "*\n"
     ]
    }
   ],
   "source": [
    "#<YOUR CODE>\n",
    "print(len('*******')) # i will draw the exact picture\n",
    "\n",
    "for i in range(1, 14, 1):\n",
    "    if i > 7:\n",
    "        print('*' * (14 - i))\n",
    "    else:\n",
    "        print('*' * i)"
   ]
  },
  {
   "cell_type": "markdown",
   "id": "9f0f0213",
   "metadata": {},
   "source": [
    "## Task 4  (0.5 points)\n",
    "\n",
    "**Step 1**: Write a program that returns a list that contains only the elements that are common between the provided lists (without duplicates). Be sure that your program `also` works on the two lists with different sizes.\n",
    "\n",
    "```\n",
    "a = [2, 2, 3, 1, 1, 1, 1, 3, 2, 2, 6, 5, 4, 7, 8, 31]\n",
    "b = [2, 7, 4, 6, 7, 4, 2, 31, 2, 5, 11, 1, 2, 1, 3, 1, 7, 9, 5]\n",
    "```"
   ]
  },
  {
   "cell_type": "code",
   "execution_count": 24,
   "id": "c79ed191",
   "metadata": {
    "ExecuteTime": {
     "end_time": "2024-04-14T20:52:50.420796200Z",
     "start_time": "2024-04-14T20:52:50.414215800Z"
    }
   },
   "outputs": [
    {
     "name": "stdout",
     "output_type": "stream",
     "text": [
      "[1, 2, 3, 4, 5, 6, 7, 31]\n"
     ]
    }
   ],
   "source": [
    "#<YOUR CODE>\n",
    "\n",
    "a = [2, 2, 3, 1, 1, 1, 1, 3, 2, 2, 6, 5, 4, 7, 8, 31]\n",
    "b = [2, 7, 4, 6, 7, 4, 2, 31, 2, 5, 11, 1, 2, 1, 3, 1, 7, 9, 5]\n",
    "\n",
    "set1 = set(a)\n",
    "set2 = set(b)\n",
    "\n",
    "common_elements = list(set1.intersection(set2))\n",
    "print(common_elements)"
   ]
  },
  {
   "cell_type": "markdown",
   "id": "8a0edbe2",
   "metadata": {},
   "source": [
    "## Task 5  (0.5 point)\n",
    "\n",
    "Write a program to ask the user to insert a string, and print out whether this string is a palindrome or not.\n",
    "\n",
    "**Note:** A string is said to be a palindrome if it is the same if we start reading it from left to right or right to left."
   ]
  },
  {
   "cell_type": "code",
   "execution_count": 27,
   "id": "5414b2cf",
   "metadata": {
    "ExecuteTime": {
     "end_time": "2024-04-14T20:57:27.755367800Z",
     "start_time": "2024-04-14T20:57:25.132259600Z"
    }
   },
   "outputs": [
    {
     "name": "stdout",
     "output_type": "stream",
     "text": [
      "\"madam\" is a palindrome.\n"
     ]
    }
   ],
   "source": [
    "#<YOUR CODE>\n",
    "usr_input = s = str(input(\"Enter your word\"))\n",
    "s = s.replace(\" \", \"\").lower()\n",
    "if s == s[::-1]:\n",
    "    print(f'\"{usr_input}\" is a palindrome.')\n",
    "else:\n",
    "    print(f'\"{usr_input}\" is not a palindrome.')"
   ]
  },
  {
   "cell_type": "markdown",
   "id": "63c550f5",
   "metadata": {},
   "source": [
    "## Task 6  (0.5 point)\n",
    "\n",
    "Let's consider we have saved a list in a variable. E.g. `my_list = [2, 5, 4, 4, 6, 7, 5, 6, 9, 22, 23, 44, 32]` \n",
    "\n",
    "Write a program that takes this list and makes a new list that has only the odd elements of this list in it."
   ]
  },
  {
   "cell_type": "code",
   "execution_count": 28,
   "id": "90fcc676",
   "metadata": {
    "ExecuteTime": {
     "end_time": "2024-04-14T20:58:54.276967700Z",
     "start_time": "2024-04-14T20:58:54.261178600Z"
    }
   },
   "outputs": [
    {
     "data": {
      "text/plain": "[5, 7, 5, 9, 23]"
     },
     "execution_count": 28,
     "metadata": {},
     "output_type": "execute_result"
    }
   ],
   "source": [
    "#<YOUR CODE>\n",
    "my_list = [2, 5, 4, 4, 6, 7, 5, 6, 9, 22, 23, 44, 32]\n",
    "odd_elements = [num for num in my_list if num % 2 != 0]\n",
    "odd_elements"
   ]
  }
 ],
 "metadata": {
  "kernelspec": {
   "display_name": "Python 3 (ipykernel)",
   "language": "python",
   "name": "python3"
  },
  "language_info": {
   "codemirror_mode": {
    "name": "ipython",
    "version": 3
   },
   "file_extension": ".py",
   "mimetype": "text/x-python",
   "name": "python",
   "nbconvert_exporter": "python",
   "pygments_lexer": "ipython3",
   "version": "3.10.9"
  }
 },
 "nbformat": 4,
 "nbformat_minor": 5
}
