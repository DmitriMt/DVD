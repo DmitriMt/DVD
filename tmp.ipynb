{
 "cells": [
  {
   "cell_type": "code",
   "execution_count": 17,
   "id": "initial_id",
   "metadata": {
    "collapsed": true,
    "ExecuteTime": {
     "end_time": "2024-05-31T09:54:40.152888Z",
     "start_time": "2024-05-31T09:54:38.606753800Z"
    }
   },
   "outputs": [
    {
     "ename": "KeyError",
     "evalue": "\"['Unnamed: 0'] not found in axis\"",
     "output_type": "error",
     "traceback": [
      "\u001B[0;31m---------------------------------------------------------------------------\u001B[0m",
      "\u001B[0;31mKeyError\u001B[0m                                  Traceback (most recent call last)",
      "Cell \u001B[0;32mIn[17], line 3\u001B[0m\n\u001B[1;32m      1\u001B[0m \u001B[38;5;28;01mimport\u001B[39;00m \u001B[38;5;21;01mpandas\u001B[39;00m \u001B[38;5;28;01mas\u001B[39;00m \u001B[38;5;21;01mpd\u001B[39;00m\n\u001B[1;32m      2\u001B[0m df \u001B[38;5;241m=\u001B[39m pd\u001B[38;5;241m.\u001B[39mread_excel(\u001B[38;5;124m'\u001B[39m\u001B[38;5;124mpanel.xlsx\u001B[39m\u001B[38;5;124m'\u001B[39m)\n\u001B[0;32m----> 3\u001B[0m df \u001B[38;5;241m=\u001B[39m \u001B[43mdf\u001B[49m\u001B[38;5;241;43m.\u001B[39;49m\u001B[43mdrop\u001B[49m\u001B[43m(\u001B[49m\u001B[43mcolumns\u001B[49m\u001B[38;5;241;43m=\u001B[39;49m\u001B[43m[\u001B[49m\u001B[38;5;124;43m'\u001B[39;49m\u001B[38;5;124;43mUnnamed: 0\u001B[39;49m\u001B[38;5;124;43m'\u001B[39;49m\u001B[43m]\u001B[49m\u001B[43m)\u001B[49m\n\u001B[1;32m      4\u001B[0m df \u001B[38;5;241m=\u001B[39m df\u001B[38;5;241m.\u001B[39mset_index([\u001B[38;5;124m'\u001B[39m\u001B[38;5;124mregion\u001B[39m\u001B[38;5;124m'\u001B[39m, \u001B[38;5;124m'\u001B[39m\u001B[38;5;124mperiod\u001B[39m\u001B[38;5;124m'\u001B[39m])\n\u001B[1;32m      5\u001B[0m df \u001B[38;5;241m=\u001B[39m df\u001B[38;5;241m.\u001B[39mmap(\u001B[38;5;28;01mlambda\u001B[39;00m x: x\u001B[38;5;241m.\u001B[39mreplace(\u001B[38;5;124m'\u001B[39m\u001B[38;5;124m,\u001B[39m\u001B[38;5;124m'\u001B[39m, \u001B[38;5;124m'\u001B[39m\u001B[38;5;124m.\u001B[39m\u001B[38;5;124m'\u001B[39m) \u001B[38;5;28;01mif\u001B[39;00m \u001B[38;5;28misinstance\u001B[39m(x, \u001B[38;5;28mstr\u001B[39m) \u001B[38;5;28;01melse\u001B[39;00m x)\n",
      "File \u001B[0;32m~/jup_dual/venv/lib/python3.10/site-packages/pandas/core/frame.py:5581\u001B[0m, in \u001B[0;36mDataFrame.drop\u001B[0;34m(self, labels, axis, index, columns, level, inplace, errors)\u001B[0m\n\u001B[1;32m   5433\u001B[0m \u001B[38;5;28;01mdef\u001B[39;00m \u001B[38;5;21mdrop\u001B[39m(\n\u001B[1;32m   5434\u001B[0m     \u001B[38;5;28mself\u001B[39m,\n\u001B[1;32m   5435\u001B[0m     labels: IndexLabel \u001B[38;5;241m|\u001B[39m \u001B[38;5;28;01mNone\u001B[39;00m \u001B[38;5;241m=\u001B[39m \u001B[38;5;28;01mNone\u001B[39;00m,\n\u001B[0;32m   (...)\u001B[0m\n\u001B[1;32m   5442\u001B[0m     errors: IgnoreRaise \u001B[38;5;241m=\u001B[39m \u001B[38;5;124m\"\u001B[39m\u001B[38;5;124mraise\u001B[39m\u001B[38;5;124m\"\u001B[39m,\n\u001B[1;32m   5443\u001B[0m ) \u001B[38;5;241m-\u001B[39m\u001B[38;5;241m>\u001B[39m DataFrame \u001B[38;5;241m|\u001B[39m \u001B[38;5;28;01mNone\u001B[39;00m:\n\u001B[1;32m   5444\u001B[0m \u001B[38;5;250m    \u001B[39m\u001B[38;5;124;03m\"\"\"\u001B[39;00m\n\u001B[1;32m   5445\u001B[0m \u001B[38;5;124;03m    Drop specified labels from rows or columns.\u001B[39;00m\n\u001B[1;32m   5446\u001B[0m \n\u001B[0;32m   (...)\u001B[0m\n\u001B[1;32m   5579\u001B[0m \u001B[38;5;124;03m            weight  1.0     0.8\u001B[39;00m\n\u001B[1;32m   5580\u001B[0m \u001B[38;5;124;03m    \"\"\"\u001B[39;00m\n\u001B[0;32m-> 5581\u001B[0m     \u001B[38;5;28;01mreturn\u001B[39;00m \u001B[38;5;28;43msuper\u001B[39;49m\u001B[43m(\u001B[49m\u001B[43m)\u001B[49m\u001B[38;5;241;43m.\u001B[39;49m\u001B[43mdrop\u001B[49m\u001B[43m(\u001B[49m\n\u001B[1;32m   5582\u001B[0m \u001B[43m        \u001B[49m\u001B[43mlabels\u001B[49m\u001B[38;5;241;43m=\u001B[39;49m\u001B[43mlabels\u001B[49m\u001B[43m,\u001B[49m\n\u001B[1;32m   5583\u001B[0m \u001B[43m        \u001B[49m\u001B[43maxis\u001B[49m\u001B[38;5;241;43m=\u001B[39;49m\u001B[43maxis\u001B[49m\u001B[43m,\u001B[49m\n\u001B[1;32m   5584\u001B[0m \u001B[43m        \u001B[49m\u001B[43mindex\u001B[49m\u001B[38;5;241;43m=\u001B[39;49m\u001B[43mindex\u001B[49m\u001B[43m,\u001B[49m\n\u001B[1;32m   5585\u001B[0m \u001B[43m        \u001B[49m\u001B[43mcolumns\u001B[49m\u001B[38;5;241;43m=\u001B[39;49m\u001B[43mcolumns\u001B[49m\u001B[43m,\u001B[49m\n\u001B[1;32m   5586\u001B[0m \u001B[43m        \u001B[49m\u001B[43mlevel\u001B[49m\u001B[38;5;241;43m=\u001B[39;49m\u001B[43mlevel\u001B[49m\u001B[43m,\u001B[49m\n\u001B[1;32m   5587\u001B[0m \u001B[43m        \u001B[49m\u001B[43minplace\u001B[49m\u001B[38;5;241;43m=\u001B[39;49m\u001B[43minplace\u001B[49m\u001B[43m,\u001B[49m\n\u001B[1;32m   5588\u001B[0m \u001B[43m        \u001B[49m\u001B[43merrors\u001B[49m\u001B[38;5;241;43m=\u001B[39;49m\u001B[43merrors\u001B[49m\u001B[43m,\u001B[49m\n\u001B[1;32m   5589\u001B[0m \u001B[43m    \u001B[49m\u001B[43m)\u001B[49m\n",
      "File \u001B[0;32m~/jup_dual/venv/lib/python3.10/site-packages/pandas/core/generic.py:4788\u001B[0m, in \u001B[0;36mNDFrame.drop\u001B[0;34m(self, labels, axis, index, columns, level, inplace, errors)\u001B[0m\n\u001B[1;32m   4786\u001B[0m \u001B[38;5;28;01mfor\u001B[39;00m axis, labels \u001B[38;5;129;01min\u001B[39;00m axes\u001B[38;5;241m.\u001B[39mitems():\n\u001B[1;32m   4787\u001B[0m     \u001B[38;5;28;01mif\u001B[39;00m labels \u001B[38;5;129;01mis\u001B[39;00m \u001B[38;5;129;01mnot\u001B[39;00m \u001B[38;5;28;01mNone\u001B[39;00m:\n\u001B[0;32m-> 4788\u001B[0m         obj \u001B[38;5;241m=\u001B[39m \u001B[43mobj\u001B[49m\u001B[38;5;241;43m.\u001B[39;49m\u001B[43m_drop_axis\u001B[49m\u001B[43m(\u001B[49m\u001B[43mlabels\u001B[49m\u001B[43m,\u001B[49m\u001B[43m \u001B[49m\u001B[43maxis\u001B[49m\u001B[43m,\u001B[49m\u001B[43m \u001B[49m\u001B[43mlevel\u001B[49m\u001B[38;5;241;43m=\u001B[39;49m\u001B[43mlevel\u001B[49m\u001B[43m,\u001B[49m\u001B[43m \u001B[49m\u001B[43merrors\u001B[49m\u001B[38;5;241;43m=\u001B[39;49m\u001B[43merrors\u001B[49m\u001B[43m)\u001B[49m\n\u001B[1;32m   4790\u001B[0m \u001B[38;5;28;01mif\u001B[39;00m inplace:\n\u001B[1;32m   4791\u001B[0m     \u001B[38;5;28mself\u001B[39m\u001B[38;5;241m.\u001B[39m_update_inplace(obj)\n",
      "File \u001B[0;32m~/jup_dual/venv/lib/python3.10/site-packages/pandas/core/generic.py:4830\u001B[0m, in \u001B[0;36mNDFrame._drop_axis\u001B[0;34m(self, labels, axis, level, errors, only_slice)\u001B[0m\n\u001B[1;32m   4828\u001B[0m         new_axis \u001B[38;5;241m=\u001B[39m axis\u001B[38;5;241m.\u001B[39mdrop(labels, level\u001B[38;5;241m=\u001B[39mlevel, errors\u001B[38;5;241m=\u001B[39merrors)\n\u001B[1;32m   4829\u001B[0m     \u001B[38;5;28;01melse\u001B[39;00m:\n\u001B[0;32m-> 4830\u001B[0m         new_axis \u001B[38;5;241m=\u001B[39m \u001B[43maxis\u001B[49m\u001B[38;5;241;43m.\u001B[39;49m\u001B[43mdrop\u001B[49m\u001B[43m(\u001B[49m\u001B[43mlabels\u001B[49m\u001B[43m,\u001B[49m\u001B[43m \u001B[49m\u001B[43merrors\u001B[49m\u001B[38;5;241;43m=\u001B[39;49m\u001B[43merrors\u001B[49m\u001B[43m)\u001B[49m\n\u001B[1;32m   4831\u001B[0m     indexer \u001B[38;5;241m=\u001B[39m axis\u001B[38;5;241m.\u001B[39mget_indexer(new_axis)\n\u001B[1;32m   4833\u001B[0m \u001B[38;5;66;03m# Case for non-unique axis\u001B[39;00m\n\u001B[1;32m   4834\u001B[0m \u001B[38;5;28;01melse\u001B[39;00m:\n",
      "File \u001B[0;32m~/jup_dual/venv/lib/python3.10/site-packages/pandas/core/indexes/base.py:7070\u001B[0m, in \u001B[0;36mIndex.drop\u001B[0;34m(self, labels, errors)\u001B[0m\n\u001B[1;32m   7068\u001B[0m \u001B[38;5;28;01mif\u001B[39;00m mask\u001B[38;5;241m.\u001B[39many():\n\u001B[1;32m   7069\u001B[0m     \u001B[38;5;28;01mif\u001B[39;00m errors \u001B[38;5;241m!=\u001B[39m \u001B[38;5;124m\"\u001B[39m\u001B[38;5;124mignore\u001B[39m\u001B[38;5;124m\"\u001B[39m:\n\u001B[0;32m-> 7070\u001B[0m         \u001B[38;5;28;01mraise\u001B[39;00m \u001B[38;5;167;01mKeyError\u001B[39;00m(\u001B[38;5;124mf\u001B[39m\u001B[38;5;124m\"\u001B[39m\u001B[38;5;132;01m{\u001B[39;00mlabels[mask]\u001B[38;5;241m.\u001B[39mtolist()\u001B[38;5;132;01m}\u001B[39;00m\u001B[38;5;124m not found in axis\u001B[39m\u001B[38;5;124m\"\u001B[39m)\n\u001B[1;32m   7071\u001B[0m     indexer \u001B[38;5;241m=\u001B[39m indexer[\u001B[38;5;241m~\u001B[39mmask]\n\u001B[1;32m   7072\u001B[0m \u001B[38;5;28;01mreturn\u001B[39;00m \u001B[38;5;28mself\u001B[39m\u001B[38;5;241m.\u001B[39mdelete(indexer)\n",
      "\u001B[0;31mKeyError\u001B[0m: \"['Unnamed: 0'] not found in axis\""
     ]
    }
   ],
   "source": [
    "import pandas as pd\n",
    "df = pd.read_excel('panel.xlsx')\n",
    "df = df.drop(columns=['Unnamed: 0'])\n",
    "df = df.set_index(['region', 'period'])\n",
    "df = df.map(lambda x: x.replace(',', '.') if isinstance(x, str) else x)\n",
    "df = df.map(lambda x: x.replace(' ', '') if isinstance(x, str) else x)\n",
    "df"
   ]
  },
  {
   "cell_type": "code",
   "execution_count": 9,
   "outputs": [
    {
     "data": {
      "text/plain": "innovation_activity_level_percent           float64\nlabor_productivity_index_percent            float64\npoverty_level_percent                       float64\nindustrial_production_index_percent         float64\nconstruction_work_volume_thousand_rubles    float64\n                                             ...   \nelderly_people                                int64\nelderly_and_teenagers                         int64\nworking_age_population                        int64\nteenagers                                   float64\nworking_population                            int64\nLength: 89, dtype: object"
     },
     "execution_count": 9,
     "metadata": {},
     "output_type": "execute_result"
    }
   ],
   "source": [
    "df.dtypes"
   ],
   "metadata": {
    "collapsed": false,
    "ExecuteTime": {
     "end_time": "2024-05-31T09:16:45.402170200Z",
     "start_time": "2024-05-31T09:16:45.395172300Z"
    }
   },
   "id": "6e1f3e6c041270f5"
  },
  {
   "cell_type": "code",
   "execution_count": 10,
   "outputs": [],
   "source": [
    "df.to_excel('panel.xlsx')"
   ],
   "metadata": {
    "collapsed": false,
    "ExecuteTime": {
     "end_time": "2024-05-31T09:17:31.264007100Z",
     "start_time": "2024-05-31T09:17:30.485007300Z"
    }
   },
   "id": "6413d3a90d2386c6"
  },
  {
   "cell_type": "code",
   "execution_count": 7,
   "outputs": [
    {
     "data": {
      "text/plain": "[]"
     },
     "execution_count": 7,
     "metadata": {},
     "output_type": "execute_result"
    }
   ],
   "source": [
    "import pandas as pd\n",
    "\n",
    "def find_non_numeric(df):\n",
    "    non_numeric_cells = []\n",
    "    for col in df.columns:\n",
    "        for idx, value in df[col].items():\n",
    "            try:\n",
    "                pd.to_numeric(value)\n",
    "            except ValueError:\n",
    "                non_numeric_cells.append((col, idx, value))\n",
    "    return non_numeric_cells\n",
    "\n",
    "non_numeric_cells = find_non_numeric(df)\n",
    "non_numeric_cells"
   ],
   "metadata": {
    "collapsed": false,
    "ExecuteTime": {
     "end_time": "2024-05-31T09:13:56.063715100Z",
     "start_time": "2024-05-31T09:13:56.017714400Z"
    }
   },
   "id": "fe90ac0e19366130"
  },
  {
   "cell_type": "code",
   "execution_count": null,
   "outputs": [],
   "source": [],
   "metadata": {
    "collapsed": false
   },
   "id": "6f06711ee172569e"
  },
  {
   "cell_type": "code",
   "execution_count": 41,
   "outputs": [
    {
     "name": "stdout",
     "output_type": "stream",
     "text": [
      "Correlation Matrix:\n",
      "                                          innovation_activity_level_percent  \\\n",
      "innovation_activity_level_percent                                  1.000000   \n",
      "labor_productivity_index_percent                                   0.023238   \n",
      "poverty_level_percent                                             -0.347079   \n",
      "industrial_production_index_percent                                0.009967   \n",
      "construction_work_volume_thousand_rubles                           0.144239   \n",
      "...                                                                     ...   \n",
      "elderly_people                                                     0.292709   \n",
      "elderly_and_teenagers                                              0.292935   \n",
      "working_age_population                                             0.281178   \n",
      "teenagers                                                          0.084565   \n",
      "working_population                                                 0.277632   \n",
      "\n",
      "                                          labor_productivity_index_percent  \\\n",
      "innovation_activity_level_percent                                 0.023238   \n",
      "labor_productivity_index_percent                                  1.000000   \n",
      "poverty_level_percent                                             0.026556   \n",
      "industrial_production_index_percent                               0.429813   \n",
      "construction_work_volume_thousand_rubles                          0.050096   \n",
      "...                                                                    ...   \n",
      "elderly_people                                                    0.036594   \n",
      "elderly_and_teenagers                                             0.036897   \n",
      "working_age_population                                            0.019087   \n",
      "teenagers                                                         0.048756   \n",
      "working_population                                                0.024360   \n",
      "\n",
      "                                          poverty_level_percent  \\\n",
      "innovation_activity_level_percent                     -0.347079   \n",
      "labor_productivity_index_percent                       0.026556   \n",
      "poverty_level_percent                                  1.000000   \n",
      "industrial_production_index_percent                    0.002459   \n",
      "construction_work_volume_thousand_rubles              -0.395884   \n",
      "...                                                         ...   \n",
      "elderly_people                                        -0.349785   \n",
      "elderly_and_teenagers                                 -0.349749   \n",
      "working_age_population                                -0.345782   \n",
      "teenagers                                             -0.088499   \n",
      "working_population                                    -0.347925   \n",
      "\n",
      "                                          industrial_production_index_percent  \\\n",
      "innovation_activity_level_percent                                    0.009967   \n",
      "labor_productivity_index_percent                                     0.429813   \n",
      "poverty_level_percent                                                0.002459   \n",
      "industrial_production_index_percent                                  1.000000   \n",
      "construction_work_volume_thousand_rubles                             0.114609   \n",
      "...                                                                       ...   \n",
      "elderly_people                                                       0.136837   \n",
      "elderly_and_teenagers                                                0.136631   \n",
      "working_age_population                                               0.113086   \n",
      "teenagers                                                           -0.006437   \n",
      "working_population                                                   0.119392   \n",
      "\n",
      "                                          construction_work_volume_thousand_rubles  \\\n",
      "innovation_activity_level_percent                                         0.144239   \n",
      "labor_productivity_index_percent                                          0.050096   \n",
      "poverty_level_percent                                                    -0.395884   \n",
      "industrial_production_index_percent                                       0.114609   \n",
      "construction_work_volume_thousand_rubles                                  1.000000   \n",
      "...                                                                            ...   \n",
      "elderly_people                                                            0.763086   \n",
      "elderly_and_teenagers                                                     0.762303   \n",
      "working_age_population                                                    0.788178   \n",
      "teenagers                                                                 0.014073   \n",
      "working_population                                                        0.798562   \n",
      "\n",
      "                                          average_per_capita_income_rubles_per_month  \\\n",
      "innovation_activity_level_percent                                          -0.063655   \n",
      "labor_productivity_index_percent                                           -0.036001   \n",
      "poverty_level_percent                                                      -0.560302   \n",
      "industrial_production_index_percent                                        -0.030535   \n",
      "construction_work_volume_thousand_rubles                                    0.467606   \n",
      "...                                                                              ...   \n",
      "elderly_people                                                              0.187353   \n",
      "elderly_and_teenagers                                                       0.186258   \n",
      "working_age_population                                                      0.182688   \n",
      "teenagers                                                                  -0.135236   \n",
      "working_population                                                          0.193592   \n",
      "\n",
      "                                          employed_population_thousands  \\\n",
      "innovation_activity_level_percent                              0.312834   \n",
      "labor_productivity_index_percent                               0.021861   \n",
      "poverty_level_percent                                         -0.372856   \n",
      "industrial_production_index_percent                            0.112436   \n",
      "construction_work_volume_thousand_rubles                       0.778110   \n",
      "...                                                                 ...   \n",
      "elderly_people                                                 0.974691   \n",
      "elderly_and_teenagers                                          0.974725   \n",
      "working_age_population                                         0.990618   \n",
      "teenagers                                                      0.180167   \n",
      "working_population                                             0.991834   \n",
      "\n",
      "                                          employment_level_percent  \\\n",
      "innovation_activity_level_percent                         0.186985   \n",
      "labor_productivity_index_percent                          0.004283   \n",
      "poverty_level_percent                                    -0.595389   \n",
      "industrial_production_index_percent                      -0.031086   \n",
      "construction_work_volume_thousand_rubles                  0.417113   \n",
      "...                                                            ...   \n",
      "elderly_people                                            0.235756   \n",
      "elderly_and_teenagers                                     0.235146   \n",
      "working_age_population                                    0.202330   \n",
      "teenagers                                                -0.044442   \n",
      "working_population                                        0.214113   \n",
      "\n",
      "                                          increase_in_high_productivity_jobs_thousands  \\\n",
      "innovation_activity_level_percent                                             0.306216   \n",
      "labor_productivity_index_percent                                              0.154935   \n",
      "poverty_level_percent                                                        -0.234372   \n",
      "industrial_production_index_percent                                           0.087446   \n",
      "construction_work_volume_thousand_rubles                                      0.575895   \n",
      "...                                                                                ...   \n",
      "elderly_people                                                                0.740239   \n",
      "elderly_and_teenagers                                                         0.739927   \n",
      "working_age_population                                                        0.716756   \n",
      "teenagers                                                                     0.074000   \n",
      "working_population                                                            0.723051   \n",
      "\n",
      "                                          goods_and_services_output_index_percent  \\\n",
      "innovation_activity_level_percent                                       -0.015296   \n",
      "labor_productivity_index_percent                                         0.325597   \n",
      "poverty_level_percent                                                   -0.167508   \n",
      "industrial_production_index_percent                                      0.378368   \n",
      "construction_work_volume_thousand_rubles                                 0.069023   \n",
      "...                                                                           ...   \n",
      "elderly_people                                                           0.017615   \n",
      "elderly_and_teenagers                                                    0.017247   \n",
      "working_age_population                                                   0.005085   \n",
      "teenagers                                                               -0.046563   \n",
      "working_population                                                       0.010038   \n",
      "\n",
      "                                          ...  \\\n",
      "innovation_activity_level_percent         ...   \n",
      "labor_productivity_index_percent          ...   \n",
      "poverty_level_percent                     ...   \n",
      "industrial_production_index_percent       ...   \n",
      "construction_work_volume_thousand_rubles  ...   \n",
      "...                                       ...   \n",
      "elderly_people                            ...   \n",
      "elderly_and_teenagers                     ...   \n",
      "working_age_population                    ...   \n",
      "teenagers                                 ...   \n",
      "working_population                        ...   \n",
      "\n",
      "                                          average_cost_of_construction_per_sqm  \\\n",
      "innovation_activity_level_percent                                    -0.115048   \n",
      "labor_productivity_index_percent                                     -0.040633   \n",
      "poverty_level_percent                                                -0.126514   \n",
      "industrial_production_index_percent                                  -0.111019   \n",
      "construction_work_volume_thousand_rubles                              0.125277   \n",
      "...                                                                        ...   \n",
      "elderly_people                                                       -0.026621   \n",
      "elderly_and_teenagers                                                -0.027279   \n",
      "working_age_population                                               -0.034029   \n",
      "teenagers                                                            -0.145276   \n",
      "working_population                                                   -0.025718   \n",
      "\n",
      "                                          residential_area_completed_annually_per_1000_population_sqm  \\\n",
      "innovation_activity_level_percent                                                  0.147660             \n",
      "labor_productivity_index_percent                                                  -0.122789             \n",
      "poverty_level_percent                                                             -0.274634             \n",
      "industrial_production_index_percent                                                0.055051             \n",
      "construction_work_volume_thousand_rubles                                           0.189761             \n",
      "...                                                                                     ...             \n",
      "elderly_people                                                                     0.197705             \n",
      "elderly_and_teenagers                                                              0.197051             \n",
      "working_age_population                                                             0.188908             \n",
      "teenagers                                                                         -0.042950             \n",
      "working_population                                                                 0.193440             \n",
      "\n",
      "                                          investment_in_fixed_assets_excluding_budget_thousand_rubles  \\\n",
      "innovation_activity_level_percent                                                  0.140122             \n",
      "labor_productivity_index_percent                                                   0.058593             \n",
      "poverty_level_percent                                                             -0.379499             \n",
      "industrial_production_index_percent                                                0.130394             \n",
      "construction_work_volume_thousand_rubles                                           0.950745             \n",
      "...                                                                                     ...             \n",
      "elderly_people                                                                     0.815095             \n",
      "elderly_and_teenagers                                                              0.814462             \n",
      "working_age_population                                                             0.836072             \n",
      "teenagers                                                                          0.058341             \n",
      "working_population                                                                 0.845881             \n",
      "\n",
      "                                          current_market_value_residential_buildings_million_rubles  \\\n",
      "innovation_activity_level_percent                                                  0.230164           \n",
      "labor_productivity_index_percent                                                   0.030446           \n",
      "poverty_level_percent                                                             -0.330219           \n",
      "industrial_production_index_percent                                                0.133724           \n",
      "construction_work_volume_thousand_rubles                                           0.837242           \n",
      "...                                                                                     ...           \n",
      "elderly_people                                                                     0.896307           \n",
      "elderly_and_teenagers                                                              0.895615           \n",
      "working_age_population                                                             0.896276           \n",
      "teenagers                                                                          0.045243           \n",
      "working_population                                                                 0.910199           \n",
      "\n",
      "                                          foreign_citizens  elderly_people  \\\n",
      "innovation_activity_level_percent                 0.174867        0.292709   \n",
      "labor_productivity_index_percent                  0.068217        0.036594   \n",
      "poverty_level_percent                            -0.317689       -0.349785   \n",
      "industrial_production_index_percent               0.155327        0.136837   \n",
      "construction_work_volume_thousand_rubles          0.841756        0.763086   \n",
      "...                                                    ...             ...   \n",
      "elderly_people                                    0.904924        1.000000   \n",
      "elderly_and_teenagers                             0.904151        0.999986   \n",
      "working_age_population                            0.866373        0.968021   \n",
      "teenagers                                         0.033083        0.177057   \n",
      "working_population                                0.888825        0.976921   \n",
      "\n",
      "                                          elderly_and_teenagers  \\\n",
      "innovation_activity_level_percent                      0.292935   \n",
      "labor_productivity_index_percent                       0.036897   \n",
      "poverty_level_percent                                 -0.349749   \n",
      "industrial_production_index_percent                    0.136631   \n",
      "construction_work_volume_thousand_rubles               0.762303   \n",
      "...                                                         ...   \n",
      "elderly_people                                         0.999986   \n",
      "elderly_and_teenagers                                  1.000000   \n",
      "working_age_population                                 0.968085   \n",
      "teenagers                                              0.181856   \n",
      "working_population                                     0.976922   \n",
      "\n",
      "                                          working_age_population  teenagers  \\\n",
      "innovation_activity_level_percent                       0.281178   0.084565   \n",
      "labor_productivity_index_percent                        0.019087   0.048756   \n",
      "poverty_level_percent                                  -0.345782  -0.088499   \n",
      "industrial_production_index_percent                     0.113086  -0.006437   \n",
      "construction_work_volume_thousand_rubles                0.788178   0.014073   \n",
      "...                                                          ...        ...   \n",
      "elderly_people                                          0.968021   0.177057   \n",
      "elderly_and_teenagers                                   0.968085   0.181856   \n",
      "working_age_population                                  1.000000   0.188484   \n",
      "teenagers                                               0.188484   1.000000   \n",
      "working_population                                      0.998720   0.178803   \n",
      "\n",
      "                                          working_population  \n",
      "innovation_activity_level_percent                   0.277632  \n",
      "labor_productivity_index_percent                    0.024360  \n",
      "poverty_level_percent                              -0.347925  \n",
      "industrial_production_index_percent                 0.119392  \n",
      "construction_work_volume_thousand_rubles            0.798562  \n",
      "...                                                      ...  \n",
      "elderly_people                                      0.976921  \n",
      "elderly_and_teenagers                               0.976922  \n",
      "working_age_population                              0.998720  \n",
      "teenagers                                           0.178803  \n",
      "working_population                                  1.000000  \n",
      "\n",
      "[89 rows x 89 columns]\n"
     ]
    },
    {
     "name": "stderr",
     "output_type": "stream",
     "text": [
      "/home/chuckles/jup_dual/venv/lib/python3.10/site-packages/statsmodels/stats/outliers_influence.py:197: RuntimeWarning: divide by zero encountered in scalar divide\n",
      "  vif = 1. / (1. - r_squared_i)\n",
      "/home/chuckles/jup_dual/venv/lib/python3.10/site-packages/sklearn/linear_model/_ridge.py:216: LinAlgWarning: Ill-conditioned matrix (rcond=1.59652e-20): result may not be accurate.\n",
      "  return linalg.solve(A, Xy, assume_a=\"pos\", overwrite_a=True).T\n"
     ]
    },
    {
     "name": "stdout",
     "output_type": "stream",
     "text": [
      "\n",
      "VIF:\n",
      "\n",
      "Ridge Regression Coefficients:\n",
      "[-6.92623470e-12 -8.59889689e-04 -4.59395707e-03  2.19297035e-03\n",
      "  6.08767497e-04  1.35191335e-04 -4.72115564e-03 -4.02243089e-03\n",
      "  5.53335922e-02  8.96115922e-02 -8.54421056e-04  1.78423110e-01\n",
      "  4.90321319e-03  1.08818954e-04  5.77724019e-03  3.05601257e-04\n",
      " -2.32556652e-04 -1.56551067e-06]\n"
     ]
    },
    {
     "ename": "ValueError",
     "evalue": "2 or 3-d array required for numpy input",
     "output_type": "error",
     "traceback": [
      "\u001B[0;31m---------------------------------------------------------------------------\u001B[0m",
      "\u001B[0;31mValueError\u001B[0m                                Traceback (most recent call last)",
      "Cell \u001B[0;32mIn[41], line 51\u001B[0m\n\u001B[1;32m     47\u001B[0m \u001B[38;5;28mprint\u001B[39m(\u001B[38;5;124m\"\u001B[39m\u001B[38;5;130;01m\\n\u001B[39;00m\u001B[38;5;124mRidge Regression Coefficients:\u001B[39m\u001B[38;5;124m\"\u001B[39m)\n\u001B[1;32m     48\u001B[0m \u001B[38;5;28mprint\u001B[39m(ridge\u001B[38;5;241m.\u001B[39mcoef_)\n\u001B[0;32m---> 51\u001B[0m model_fe \u001B[38;5;241m=\u001B[39m \u001B[43mPanelOLS\u001B[49m\u001B[43m(\u001B[49m\u001B[43my\u001B[49m\u001B[43m,\u001B[49m\u001B[43m \u001B[49m\u001B[43mX\u001B[49m\u001B[43m,\u001B[49m\u001B[43m \u001B[49m\u001B[43mentity_effects\u001B[49m\u001B[38;5;241;43m=\u001B[39;49m\u001B[38;5;28;43;01mTrue\u001B[39;49;00m\u001B[43m,\u001B[49m\u001B[43m \u001B[49m\u001B[43mcheck_rank\u001B[49m\u001B[38;5;241;43m=\u001B[39;49m\u001B[38;5;28;43;01mFalse\u001B[39;49;00m\u001B[43m,\u001B[49m\u001B[43m \u001B[49m\u001B[43mdrop_absorbed\u001B[49m\u001B[38;5;241;43m=\u001B[39;49m\u001B[38;5;28;43;01mTrue\u001B[39;49;00m\u001B[43m)\u001B[49m\n\u001B[1;32m     52\u001B[0m results_fe \u001B[38;5;241m=\u001B[39m model_fe\u001B[38;5;241m.\u001B[39mfit()\n\u001B[1;32m     53\u001B[0m \u001B[38;5;28mprint\u001B[39m(results_fe\u001B[38;5;241m.\u001B[39msummary)\n",
      "File \u001B[0;32m~/jup_dual/venv/lib/python3.10/site-packages/linearmodels/panel/model.py:1219\u001B[0m, in \u001B[0;36mPanelOLS.__init__\u001B[0;34m(self, dependent, exog, weights, entity_effects, time_effects, other_effects, singletons, drop_absorbed, check_rank)\u001B[0m\n\u001B[1;32m   1206\u001B[0m \u001B[38;5;28;01mdef\u001B[39;00m \u001B[38;5;21m__init__\u001B[39m(\n\u001B[1;32m   1207\u001B[0m     \u001B[38;5;28mself\u001B[39m,\n\u001B[1;32m   1208\u001B[0m     dependent: PanelDataLike,\n\u001B[0;32m   (...)\u001B[0m\n\u001B[1;32m   1217\u001B[0m     check_rank: \u001B[38;5;28mbool\u001B[39m \u001B[38;5;241m=\u001B[39m \u001B[38;5;28;01mTrue\u001B[39;00m,\n\u001B[1;32m   1218\u001B[0m ) \u001B[38;5;241m-\u001B[39m\u001B[38;5;241m>\u001B[39m \u001B[38;5;28;01mNone\u001B[39;00m:\n\u001B[0;32m-> 1219\u001B[0m     \u001B[38;5;28;43msuper\u001B[39;49m\u001B[43m(\u001B[49m\u001B[43m)\u001B[49m\u001B[38;5;241;43m.\u001B[39;49m\u001B[38;5;21;43m__init__\u001B[39;49m\u001B[43m(\u001B[49m\u001B[43mdependent\u001B[49m\u001B[43m,\u001B[49m\u001B[43m \u001B[49m\u001B[43mexog\u001B[49m\u001B[43m,\u001B[49m\u001B[43m \u001B[49m\u001B[43mweights\u001B[49m\u001B[38;5;241;43m=\u001B[39;49m\u001B[43mweights\u001B[49m\u001B[43m,\u001B[49m\u001B[43m \u001B[49m\u001B[43mcheck_rank\u001B[49m\u001B[38;5;241;43m=\u001B[39;49m\u001B[43mcheck_rank\u001B[49m\u001B[43m)\u001B[49m\n\u001B[1;32m   1221\u001B[0m     \u001B[38;5;28mself\u001B[39m\u001B[38;5;241m.\u001B[39m_entity_effects \u001B[38;5;241m=\u001B[39m entity_effects\n\u001B[1;32m   1222\u001B[0m     \u001B[38;5;28mself\u001B[39m\u001B[38;5;241m.\u001B[39m_time_effects \u001B[38;5;241m=\u001B[39m time_effects\n",
      "File \u001B[0;32m~/jup_dual/venv/lib/python3.10/site-packages/linearmodels/panel/model.py:313\u001B[0m, in \u001B[0;36m_PanelModelBase.__init__\u001B[0;34m(self, dependent, exog, weights, check_rank)\u001B[0m\n\u001B[1;32m    305\u001B[0m \u001B[38;5;28;01mdef\u001B[39;00m \u001B[38;5;21m__init__\u001B[39m(\n\u001B[1;32m    306\u001B[0m     \u001B[38;5;28mself\u001B[39m,\n\u001B[1;32m    307\u001B[0m     dependent: PanelDataLike,\n\u001B[0;32m   (...)\u001B[0m\n\u001B[1;32m    311\u001B[0m     check_rank: \u001B[38;5;28mbool\u001B[39m \u001B[38;5;241m=\u001B[39m \u001B[38;5;28;01mTrue\u001B[39;00m,\n\u001B[1;32m    312\u001B[0m ) \u001B[38;5;241m-\u001B[39m\u001B[38;5;241m>\u001B[39m \u001B[38;5;28;01mNone\u001B[39;00m:\n\u001B[0;32m--> 313\u001B[0m     \u001B[38;5;28mself\u001B[39m\u001B[38;5;241m.\u001B[39mdependent \u001B[38;5;241m=\u001B[39m \u001B[43mPanelData\u001B[49m\u001B[43m(\u001B[49m\u001B[43mdependent\u001B[49m\u001B[43m,\u001B[49m\u001B[43m \u001B[49m\u001B[38;5;124;43m\"\u001B[39;49m\u001B[38;5;124;43mDep\u001B[39;49m\u001B[38;5;124;43m\"\u001B[39;49m\u001B[43m)\u001B[49m\n\u001B[1;32m    314\u001B[0m     \u001B[38;5;28mself\u001B[39m\u001B[38;5;241m.\u001B[39mexog \u001B[38;5;241m=\u001B[39m PanelData(exog, \u001B[38;5;124m\"\u001B[39m\u001B[38;5;124mExog\u001B[39m\u001B[38;5;124m\"\u001B[39m)\n\u001B[1;32m    315\u001B[0m     \u001B[38;5;28mself\u001B[39m\u001B[38;5;241m.\u001B[39m_original_shape \u001B[38;5;241m=\u001B[39m \u001B[38;5;28mself\u001B[39m\u001B[38;5;241m.\u001B[39mdependent\u001B[38;5;241m.\u001B[39mshape\n",
      "File \u001B[0;32m~/jup_dual/venv/lib/python3.10/site-packages/linearmodels/panel/data.py:236\u001B[0m, in \u001B[0;36mPanelData.__init__\u001B[0;34m(self, x, var_name, convert_dummies, drop_first, copy)\u001B[0m\n\u001B[1;32m    234\u001B[0m \u001B[38;5;28;01melif\u001B[39;00m \u001B[38;5;28misinstance\u001B[39m(x, np\u001B[38;5;241m.\u001B[39mndarray):\n\u001B[1;32m    235\u001B[0m     \u001B[38;5;28;01mif\u001B[39;00m x\u001B[38;5;241m.\u001B[39mndim \u001B[38;5;129;01mnot\u001B[39;00m \u001B[38;5;129;01min\u001B[39;00m (\u001B[38;5;241m2\u001B[39m, \u001B[38;5;241m3\u001B[39m):\n\u001B[0;32m--> 236\u001B[0m         \u001B[38;5;28;01mraise\u001B[39;00m \u001B[38;5;167;01mValueError\u001B[39;00m(\u001B[38;5;124m\"\u001B[39m\u001B[38;5;124m2 or 3-d array required for numpy input\u001B[39m\u001B[38;5;124m\"\u001B[39m)\n\u001B[1;32m    237\u001B[0m     \u001B[38;5;28;01mif\u001B[39;00m x\u001B[38;5;241m.\u001B[39mndim \u001B[38;5;241m==\u001B[39m \u001B[38;5;241m2\u001B[39m:\n\u001B[1;32m    238\u001B[0m         x \u001B[38;5;241m=\u001B[39m x[\u001B[38;5;28;01mNone\u001B[39;00m, :, :]\n",
      "\u001B[0;31mValueError\u001B[0m: 2 or 3-d array required for numpy input"
     ]
    }
   ],
   "source": [
    "import pandas as pd\n",
    "import numpy as np\n",
    "from statsmodels.stats.outliers_influence import variance_inflation_factor\n",
    "import statsmodels.api as sm\n",
    "from sklearn.decomposition import PCA\n",
    "from sklearn.linear_model import Ridge\n",
    "from linearmodels.panel import PanelOLS, RandomEffects\n",
    "\n",
    "# Sample panel data\n",
    "# data = {\n",
    "#     'entity': ['A', 'A', 'A', 'B', 'B', 'B', 'C', 'C', 'C'],\n",
    "#     'time': [1, 2, 3, 1, 2, 3, 1, 2, 3],\n",
    "#     'variable1': [1, 2, 3, 2, 3, 4, 3, 4, 5],\n",
    "#     'variable2': [2, 3, 4, 3, 4, 5, 4, 5, 6],\n",
    "#     'variable3': [5, 3, 1, 4, 2, 0, 3, 1, -1]\n",
    "# }\n",
    "# \n",
    "# df = pd.DataFrame(data)\n",
    "df = pd.read_excel('panel.xlsx')\n",
    "df = df.set_index(['region', 'period'])\n",
    "df = df.ffill()\n",
    "# Compute correlation matrix\n",
    "correlation_matrix = df[df.columns.tolist()].corr()\n",
    "print(\"Correlation Matrix:\")\n",
    "print(correlation_matrix)\n",
    "\n",
    "# Calculate VIF\n",
    "df_with_const = sm.add_constant(df[df.columns.tolist()])\n",
    "vif = pd.DataFrame()\n",
    "vif['variable'] = df_with_const.columns\n",
    "vif['VIF'] = [variance_inflation_factor(df_with_const.values, i) for i in range(df_with_const.shape[1])]\n",
    "vif_repl = vif.loc[vif['VIF'] > 10]['variable'].tolist()[1:]\n",
    "vif_repl_d = vif.loc[vif['VIF'] < 10]['variable'].tolist()\n",
    "print(\"\\nVIF:\")\n",
    "\n",
    "# Addressing multicollinearity using PCA\n",
    "pca = PCA(n_components=1)\n",
    "df['pca_component'] = pca.fit_transform(df[vif_repl])\n",
    "df_reduced = df.drop(columns=vif_repl)\n",
    "\n",
    "# Example Ridge regression to handle multicollinearity\n",
    "X = df_reduced[['pca_component'] + vif_repl_d]\n",
    "y = np.random.rand(len(df_reduced))  # Replace with your target variable\n",
    "\n",
    "ridge = Ridge(alpha=1.0)\n",
    "ridge.fit(X, y)\n",
    "print(\"\\nRidge Regression Coefficients:\")\n",
    "print(ridge.coef_)\n",
    "\n",
    "\n",
    "model_fe = PanelOLS(y, X, entity_effects=True, check_rank=False, drop_absorbed=True)\n",
    "results_fe = model_fe.fit()\n",
    "print(results_fe.summary)"
   ],
   "metadata": {
    "collapsed": false,
    "ExecuteTime": {
     "end_time": "2024-05-31T10:07:12.930083500Z",
     "start_time": "2024-05-31T10:07:10.450088800Z"
    }
   },
   "id": "5c924e496a38d8ca"
  },
  {
   "cell_type": "code",
   "execution_count": 36,
   "outputs": [
    {
     "data": {
      "text/plain": "['const',\n 'poverty_level_percent',\n 'construction_work_volume_thousand_rubles',\n 'average_per_capita_income_rubles_per_month',\n 'employed_population_thousands',\n 'employment_level_percent',\n 'increase_in_high_productivity_jobs_thousands',\n 'active_enterprises',\n 'closed_enterprises',\n 'freight_turnover_million_ton_km',\n 'commercial_freight_turnover_thousand_ton_km',\n 'retail_trade_per_capita_rubles',\n 'total_population_growth',\n 'average_annual_population',\n 'number_of_births_per_year',\n 'age_specific_mortality_rate',\n 'life_expectancy_at_birth_years',\n 'total_fertility_rate',\n 'birth_rate_age_15_19',\n 'birth_rate_age_20_24',\n 'birth_rate_age_25_29',\n 'birth_rate_age_30_34',\n 'birth_rate_age_35_39',\n 'birth_rate_age_40_44',\n 'number_of_deaths_per_year',\n 'average_monthly_nominal_wage_rubles',\n 'potential_workforce_thousands',\n 'unemployment_and_potential_workforce_percent',\n 'income_deficit',\n 'arrivals_within_russia',\n 'international_arrivals',\n 'departures_within_russia',\n 'international_departures',\n 'gross_regional_product_total_million_rubles',\n 'gross_regional_product_per_capita_rubles',\n 'household_final_consumption_expenditure_million_rubles',\n 'labor_force_aged_15_72_thousands',\n 'unemployed_aged_15_72_thousands',\n 'unemployment_rate_percent',\n 'employed_aged_15_72_thousands',\n 'employment_rate_percent',\n 'number_of_students_primary_secondary_education_thousands',\n 'number_of_vocational_students_thousands',\n 'admission_vocational_students_thousands',\n 'graduates_vocational_students_thousands',\n 'number_of_middle_level_specialists_students_thousands',\n 'admission_middle_level_specialists_thousands',\n 'graduates_middle_level_specialists_thousands',\n 'number_of_bachelor_specialist_master_students_thousands',\n 'bachelor_specialist_master_students_per_10000_population',\n 'admission_bachelor_specialist_master_thousands',\n 'graduates_bachelor_specialist_master_thousands',\n 'total_population_by_age_january_1',\n 'working_age_population_january_1',\n 'population_above_working_age_january_1',\n 'local_roads_length_total_km',\n 'local_roads_length_meeting_standards_km',\n 'residential_area_per_1000_population_sqm',\n 'increase_high_productivity_jobs_thousands',\n 'paved_roads_density_per_1000_sq_km',\n 'total_number_of_pensioners',\n 'number_of_general_practitioners_thousands',\n 'number_of_doctors_all_specialties_thousands',\n 'number_of_housing_units_per_1000_population',\n 'residential_area_completed_annually_per_1000_population_sqm',\n 'investment_in_fixed_assets_excluding_budget_thousand_rubles',\n 'current_market_value_residential_buildings_million_rubles',\n 'foreign_citizens',\n 'elderly_people',\n 'elderly_and_teenagers',\n 'working_age_population',\n 'teenagers',\n 'working_population']"
     },
     "execution_count": 36,
     "metadata": {},
     "output_type": "execute_result"
    }
   ],
   "source": [
    "vif.loc[vif['VIF'] > 10]['variable'].tolist()"
   ],
   "metadata": {
    "collapsed": false,
    "ExecuteTime": {
     "end_time": "2024-05-31T10:03:48.730251300Z",
     "start_time": "2024-05-31T10:03:48.724267900Z"
    }
   },
   "id": "c0d01e6bcf0b1be4"
  },
  {
   "cell_type": "code",
   "execution_count": null,
   "outputs": [],
   "source": [],
   "metadata": {
    "collapsed": false
   },
   "id": "c6a45f926445f3e8"
  },
  {
   "cell_type": "code",
   "execution_count": 14,
   "outputs": [
    {
     "ename": "NameError",
     "evalue": "name 'sm' is not defined",
     "output_type": "error",
     "traceback": [
      "\u001B[0;31m---------------------------------------------------------------------------\u001B[0m",
      "\u001B[0;31mNameError\u001B[0m                                 Traceback (most recent call last)",
      "Cell \u001B[0;32mIn[14], line 4\u001B[0m\n\u001B[1;32m      1\u001B[0m \u001B[38;5;28;01mfrom\u001B[39;00m \u001B[38;5;21;01mstatsmodels\u001B[39;00m\u001B[38;5;21;01m.\u001B[39;00m\u001B[38;5;21;01mstats\u001B[39;00m\u001B[38;5;21;01m.\u001B[39;00m\u001B[38;5;21;01moutliers_influence\u001B[39;00m \u001B[38;5;28;01mimport\u001B[39;00m variance_inflation_factor\n\u001B[1;32m      3\u001B[0m \u001B[38;5;66;03m# Add a constant term for VIF calculation\u001B[39;00m\n\u001B[0;32m----> 4\u001B[0m df_with_const \u001B[38;5;241m=\u001B[39m \u001B[43msm\u001B[49m\u001B[38;5;241m.\u001B[39madd_constant(df[[\u001B[38;5;124m'\u001B[39m\u001B[38;5;124mvariable1\u001B[39m\u001B[38;5;124m'\u001B[39m, \u001B[38;5;124m'\u001B[39m\u001B[38;5;124mvariable2\u001B[39m\u001B[38;5;124m'\u001B[39m, \u001B[38;5;124m'\u001B[39m\u001B[38;5;124mvariable3\u001B[39m\u001B[38;5;124m'\u001B[39m]])\n\u001B[1;32m      6\u001B[0m \u001B[38;5;66;03m# Calculate VIF\u001B[39;00m\n\u001B[1;32m      7\u001B[0m vif \u001B[38;5;241m=\u001B[39m pd\u001B[38;5;241m.\u001B[39mDataFrame()\n",
      "\u001B[0;31mNameError\u001B[0m: name 'sm' is not defined"
     ]
    }
   ],
   "source": [
    "from statsmodels.stats.outliers_influence import variance_inflation_factor\n",
    "\n",
    "# Add a constant term for VIF calculation\n",
    "df_with_const = sm.add_constant(df[['variable1', 'variable2', 'variable3']])\n",
    "\n",
    "# Calculate VIF\n",
    "vif = pd.DataFrame()\n",
    "vif['variable'] = df_with_const.columns\n",
    "vif['VIF'] = [variance_inflation_factor(df_with_const.values, i) for i in range(df_with_const.shape[1])]\n",
    "vif"
   ],
   "metadata": {
    "collapsed": false,
    "ExecuteTime": {
     "end_time": "2024-05-31T09:48:48.852676400Z",
     "start_time": "2024-05-31T09:48:48.815249400Z"
    }
   },
   "id": "37a63aee0aecaa5b"
  }
 ],
 "metadata": {
  "kernelspec": {
   "display_name": "Python 3",
   "language": "python",
   "name": "python3"
  },
  "language_info": {
   "codemirror_mode": {
    "name": "ipython",
    "version": 2
   },
   "file_extension": ".py",
   "mimetype": "text/x-python",
   "name": "python",
   "nbconvert_exporter": "python",
   "pygments_lexer": "ipython2",
   "version": "2.7.6"
  }
 },
 "nbformat": 4,
 "nbformat_minor": 5
}
